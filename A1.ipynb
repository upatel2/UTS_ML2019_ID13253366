{
  "nbformat": 4,
  "nbformat_minor": 0,
  "metadata": {
    "colab": {
      "name": "A1.ipynb",
      "version": "0.3.2",
      "provenance": [],
      "include_colab_link": true
    },
    "kernelspec": {
      "name": "python3",
      "display_name": "Python 3"
    }
  },
  "cells": [
    {
      "cell_type": "markdown",
      "metadata": {
        "id": "view-in-github",
        "colab_type": "text"
      },
      "source": [
        "<a href=\"https://colab.research.google.com/github/upatel2/UTS_ML2019_ID13253366/blob/master/A1.ipynb\" target=\"_parent\"><img src=\"https://colab.research.google.com/assets/colab-badge.svg\" alt=\"Open In Colab\"/></a>"
      ]
    },
    {
      "cell_type": "markdown",
      "metadata": {
        "id": "9iO-8JeJEs0D",
        "colab_type": "text"
      },
      "source": [
        "# Machine learning Assignment 1. \n",
        "\n",
        "Literature Review – Machine Learning – 31005 – “The Computational Complexity of Probabilistic Inference Using Bayesian Belief Networks”. \n",
        " \n",
        "**Abstract**\n",
        "\n",
        "Bayesian Belief Networks are a statistical model used to describe the dependencies between different variables. These networks have been advancing rapidly and researchers are now starting to explore the uses of these networks in Artificial Intelligence (AI). There has been development of specific algorithms for determining inference, however, majority of general belief networks have escaped the endeavour of inference algorithms. The article emphasises that the probabilistic inference using belief networks is NP-hard. \n",
        "\n",
        "1.Introduction \n",
        "\n",
        "The vast field of Artificial Intelligence has various classical systems that use a directed graph to represent relationships among events. Gregory F. Cooper explains a newly created model named as the “Bayesian Belief Network”, also termed as the probabilistic casual network, which is extensively researched today. These networks portray probabilistic relationships effectively. The tendency to assume variables are dependent on other variables is neglected by the requirement to consider only known dependencies amongst other variables. \n",
        "One of the main positives of the network is that it expresses the probabilistic relationships comprehensively. This advantage has accounted for the creation of new professional systems that use belief networks for data analysis. Multiply connected belief networks have at least one pair of nodes that contain an undirected path that connects them, whereas a single connected network has no nodes that have more than one undirected path between them. This article paper aims to show that the probabilistic inference using multiple connected networks are NP-hard, hence implying that an efficient algorithm cannot be created for these networks. \n"
      ]
    }
  ]
}